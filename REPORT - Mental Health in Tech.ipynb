{
 "cells": [
  {
   "cell_type": "markdown",
   "metadata": {},
   "source": [
    "My Codebook:\n",
    "\n",
    "Services: \n",
    "\n",
    "treatment: Have you sought treatment for a mental health condition?\n",
    "    \n",
    "#benefits: Does your employer provide mental health benefits?\n",
    "\n",
    "#care_options: Do you know the options for mental health care your employer provides?\n",
    "\n",
    "#wellness_program: Has your employer ever discussed mental health as part of an employee wellness program?\n",
    "\n",
    "#seek_help: Does your employer provide resources to learn more about mental health issues and how to seek help?\n",
    "\n",
    "#leave: How easy is it for you to take medical leave for a mental health condition?\n",
    "\n",
    "Felling:\n",
    "\n",
    "##mental_health_consequence: Do you think that discussing a mental health issue with your employer would have negative consequences?\n",
    "\n",
    "##coworkers: Would you be willing to discuss a mental health issue with your coworkers?\n",
    "\n",
    "##supervisor: Would you be willing to discuss a mental health issue with your direct supervisor(s)?\n",
    "\n",
    "##mental_health_interview: Would you bring up a mental health issue with a potential employer in an interview?\n",
    "\n",
    "##mental_vs_physical: Do you feel that your employer takes mental health as seriously as physical health?\n",
    "\n",
    "##obs_consequence: Have you heard of or observed negative consequences for coworkers with mental health conditions in your workplace?\n",
    "\n",
    "comments: Any additional notes or comments"
   ]
  },
  {
   "cell_type": "code",
   "execution_count": null,
   "metadata": {},
   "outputs": [],
   "source": [
    "# I decided to use as a starting point and \"key\" the answers about 'treatment': Have you sought treatment for a mental health condition?\n",
    "# The reason is to understand if are differents points of views about the companies in the aspect of who already had some king of treatment."
   ]
  },
  {
   "cell_type": "code",
   "execution_count": null,
   "metadata": {},
   "outputs": [],
   "source": [
    "#"
   ]
  },
  {
   "cell_type": "code",
   "execution_count": 2,
   "metadata": {
    "scrolled": true
   },
   "outputs": [],
   "source": [
    "# we can see that is a balance between people who already had some king of treatment for mental health and people that dont:\n",
    "\n",
    "Yes    637\n",
    "No     622"
   ]
  },
  {
   "cell_type": "code",
   "execution_count": null,
   "metadata": {},
   "outputs": [],
   "source": []
  },
  {
   "cell_type": "code",
   "execution_count": null,
   "metadata": {},
   "outputs": [],
   "source": [
    "#first conclusion is about comunication. Even people that know about  provide some kind of benefits, options or programns, the employees dont know about it:\n",
    "\n"
   ]
  }
 ],
 "metadata": {
  "kernelspec": {
   "display_name": "Python 3",
   "language": "python",
   "name": "python3"
  },
  "language_info": {
   "codemirror_mode": {
    "name": "ipython",
    "version": 3
   },
   "file_extension": ".py",
   "mimetype": "text/x-python",
   "name": "python",
   "nbconvert_exporter": "python",
   "pygments_lexer": "ipython3",
   "version": "3.6.10"
  }
 },
 "nbformat": 4,
 "nbformat_minor": 4
}
